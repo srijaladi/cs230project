{
 "cells": [
  {
   "cell_type": "markdown",
   "metadata": {
    "id": "qSRuV6-3JW5Z"
   },
   "source": [
    "Prepare the Data:\n",
    "1. Scrape basketball-reference for player game logs\n",
    "2. Transform the data into (m, 10, 20) game sequences, each game with 20 features."
   ]
  },
  {
   "cell_type": "code",
   "execution_count": null,
   "metadata": {
    "id": "hDzRsmd6ngg3"
   },
   "outputs": [],
   "source": [
    "#Install the first basketball-reference scraper\n",
    "pip install basketball-reference-scraper"
   ]
  },
  {
   "cell_type": "code",
   "execution_count": null,
   "metadata": {
    "id": "tZtW2cd5e4Cw"
   },
   "outputs": [],
   "source": [
    "#Install the second basketball-reference scraper\n",
    "pip install basketball_reference_web_scraper"
   ]
  },
  {
   "cell_type": "code",
   "execution_count": null,
   "metadata": {
    "id": "XKs5NblHnFiY"
   },
   "outputs": [],
   "source": [
    "#IMPORT STATEMENTS\n",
    "import numpy as np\n",
    "import warnings\n",
    "warnings.filterwarnings('ignore')  # supress scikit 'future warnings'\n",
    "import pandas as pd\n",
    "from sklearn import preprocessing\n",
    "from sklearn.neighbors import KNeighborsClassifier\n",
    "from sklearn.model_selection import train_test_split\n",
    "from sklearn.preprocessing import MinMaxScaler\n",
    "from sklearn.linear_model import LogisticRegression\n",
    "from sklearn.linear_model import LinearRegression\n",
    "from sklearn.metrics import confusion_matrix\n",
    "from sklearn.model_selection import GridSearchCV\n",
    "from scipy.optimize import linear_sum_assignment\n",
    "import matplotlib         \n",
    "from matplotlib import pyplot as plt\n",
    "from scipy.stats import norm\n",
    "from scipy.stats import norm, kurtosis\n",
    "from sklearn import linear_model\n",
    "from sklearn.linear_model import Ridge\n",
    "from sklearn.metrics import mean_squared_error\n",
    "from sklearn.ensemble import GradientBoostingRegressor\n",
    "from sklearn.preprocessing import PolynomialFeatures\n",
    "from sklearn.pipeline import make_pipeline\n",
    "from sklearn.linear_model import LinearRegression\n",
    "from sklearn.discriminant_analysis import LinearDiscriminantAnalysis\n",
    "from sklearn.discriminant_analysis import QuadraticDiscriminantAnalysis\n",
    "from sklearn import svm\n",
    "from sklearn.svm import SVC\n",
    "from sklearn.preprocessing import StandardScaler\n",
    "from sklearn.preprocessing import StandardScaler\n",
    "from sklearn.pipeline import make_pipeline\n",
    "from sklearn.ensemble import GradientBoostingClassifier\n",
    "from sklearn.ensemble import RandomForestClassifier\n",
    "import math\n",
    "import pickle\n",
    "import random\n",
    "import copy\n",
    "from copy import deepcopy\n",
    "import itertools\n",
    "from dataclasses import dataclass\n",
    "import collections\n",
    "from collections import defaultdict\n",
    "import random\n",
    "from typing import Callable, Dict, List, Tuple, TypeVar\n",
    "import random\n",
    "import sys\n",
    "from collections import Counter\n",
    "#from basketball_reference_scraper import ask_matches\n",
    "from basketball_reference_scraper.teams import get_roster, get_team_stats, get_opp_stats, get_roster_stats, get_team_misc\n",
    "from basketball_reference_scraper.players import get_stats, get_game_logs, get_player_headshot, get_player_suffix, lookup\n",
    "import datetime\n",
    "from basketball_reference_web_scraper import client\n",
    "from basketball_reference_web_scraper.data import Location \n",
    "from basketball_reference_web_scraper.data import Outcome \n",
    "from basketball_reference_web_scraper.data import OutputType\n",
    "import pprint \n",
    "import csv\n",
    "import pandas as pd\n",
    "from sklearn.preprocessing import LabelEncoder\n",
    "from sklearn.preprocessing import MinMaxScaler"
   ]
  },
  {
   "cell_type": "code",
   "execution_count": null,
   "metadata": {
    "id": "nBUz3SKRpAR8"
   },
   "outputs": [],
   "source": [
    "#Create a set of all basketball players (NBA) going back about 20 years\n",
    "entire_player_list = set()\n",
    "teams = [\n",
    "         \"ATL\", \"NJN\", \"BOS\", \"CHA\", \"CHI\", \"CLE\", \"DAL\", \"DEN\", \"DET\", \"GSW\", \n",
    "         \"HOU\", \"IND\", \"LAC\", \"LAL\", \"MEM\", \"MIA\", \"MIL\", \"MIN\", \"NOP\", \"NYK\",\n",
    "         \"OKC\", \"ORL\", \"PHI\", \"PHO\", \"POR\", \"SAC\", \"SAS\", \"TOR\", \"UTA\", \"WAS\", \"CHO\", \"BRK\"\n",
    "]\n",
    "for team in teams:\n",
    "  for year in range(2000,2022):\n",
    "    try:\n",
    "      for player in get_roster(team, year)['PLAYER']:\n",
    "        entire_player_list.add(player)\n",
    "    except:\n",
    "      print(team, year)\n",
    "\n",
    "print(len(entire_player_list), entire_player_list)"
   ]
  },
  {
   "cell_type": "code",
   "execution_count": null,
   "metadata": {
    "id": "gKTu0Yri_TnY"
   },
   "outputs": [],
   "source": [
    "#A method to create a player's nba-reference id from their name for use in\n",
    "#getting that player's game log csv\n",
    "def create_id(player_name):\n",
    "  player_names = player_name.strip(\"-_.,\\'~`\").split(\" \")\n",
    "  first = player_names[0]\n",
    "  last = player_names[1]\n",
    "  player_id = last.lower().strip()[0:min(5,len(last))] + first.lower()[0:min(2,len(first))] + \"01\"\n",
    "  return player_id\n"
   ]
  },
  {
   "cell_type": "code",
   "execution_count": null,
   "metadata": {
    "id": "jtCLGCG_Csnl"
   },
   "outputs": [],
   "source": [
    "#A method to save each player's season game logs to a csv in Google Drive for \n",
    "#easy future use.\n",
    "def output_file(player_id, player_name, year):\n",
    "  try:\n",
    "    client.regular_season_player_box_scores(player_identifier=player_id, \n",
    "                                    season_end_year=year, \n",
    "                                    output_type=OutputType.CSV, \n",
    "                                    output_file_path=\"/content/gdrive/My Drive/freshman year/CS230/Notebooks/Final Project/Player CSVs 3/%d_%d_%s_%s.csv\" %(year-1, year, player_id, player_name))\n",
    "    print(\"succesful\", player_name, year)\n",
    "  except:\n",
    "    print(\"unsuccesful\", player_name, year)"
   ]
  },
  {
   "cell_type": "code",
   "execution_count": null,
   "metadata": {
    "id": "o5YWqEq38vaE"
   },
   "outputs": [],
   "source": [
    "#Save all possible season game logs to google drive using the list of all\n",
    "#active players, the possible seasons they could've played in, and their\n",
    "#player id.\n",
    "pp = pprint.PrettyPrinter(indent=4)\n",
    "exceptions = []\n",
    "#output player data\n",
    "for player in entire_player_list:\n",
    "  try:\n",
    "    player_id = create_id(player)\n",
    "    for year in range(2000, 2022):\n",
    "        output_file(player_id, player, year)\n",
    "  except:\n",
    "    print(\"unsuccesful 2 \" + player)\n",
    "  "
   ]
  },
  {
   "cell_type": "code",
   "execution_count": null,
   "metadata": {
    "id": "F-wR1vIfnZK-"
   },
   "outputs": [],
   "source": [
    "#Mount google drive so that files stored in Google Drive\n",
    "#can readily be accessed within this notebook.\n",
    "from google.colab import drive\n",
    "drive.mount('/content/gdrive')"
   ]
  },
  {
   "cell_type": "code",
   "execution_count": null,
   "metadata": {
    "id": "3i3hqW3xCKd2"
   },
   "outputs": [],
   "source": [
    "#Methods used for transforming different words in the game CSVs into \n",
    "#number values\n",
    "\n",
    "#Transform True to 1 and False to 0\n",
    "def true_to_one(input):\n",
    "  if input:\n",
    "    return 1\n",
    "  else:\n",
    "    return 0\n",
    "\n",
    "#Transform \"HOME\" to 1 and \"AWAY\" to 0\n",
    "def home_to_one(input):\n",
    "  if input == \"HOME\":\n",
    "    return 1\n",
    "  else:\n",
    "    return 0\n",
    "\n",
    "#Transform \"WIN\" to 1 and \"LOST\" to 0\n",
    "def win_to_one(input):\n",
    "  if input == \"WIN\":\n",
    "    return 1\n",
    "  else:\n",
    "    return 0\n",
    "\n",
    "#Using the transformation columns, convert each game log into solely numerical\n",
    "#values used for the supervised learning task\n",
    "def convert_df(dataframe):\n",
    "  df = dataframe\n",
    "  df['active'] = df['active'].apply(true_to_one)\n",
    "  df['location'] = df['location'].apply(home_to_one)\n",
    "  df['outcome'] = df['outcome'].apply(win_to_one)\n",
    "  df = df.drop(columns=['date', 'team', 'opponent'])\n",
    "  return df\n",
    "\n",
    "\n"
   ]
  },
  {
   "cell_type": "code",
   "execution_count": null,
   "metadata": {
    "colab": {
     "base_uri": "https://localhost:8080/"
    },
    "id": "YUULZKI-Of91",
    "outputId": "71b1db09-0a57-418a-bfc0-7fa1e13dae7b"
   },
   "outputs": [
    {
     "name": "stdout",
     "output_type": "stream",
     "text": [
      "/content/gdrive/My Drive/freshman year/CS230/Notebooks/Final Project/Player CSVs 3\n",
      "1\n",
      "1001\n",
      "2001\n",
      "3001\n",
      "4001\n",
      "5001\n",
      "6001\n",
      "7001\n",
      "8001\n",
      "9001\n",
      "/content/gdrive/My Drive/freshman year/CS230/Notebooks/Final Project\n"
     ]
    }
   ],
   "source": [
    "#Navigate to the appropriate directory to access all player game logs\n",
    "%cd /content/gdrive/My Drive/freshman year/CS230/Notebooks/Final Project/Player CSVs 3/\n",
    "file_names = sp.getoutput('ls')\n",
    "file_names = file_names.split('\\n')\n",
    "\n",
    "#Iterate through each player season log and transform that season into a \n",
    "#numpy array and add that array to a list of all players' seasons\n",
    "i = 0\n",
    "X = []\n",
    "\n",
    "for file_name in file_names:\n",
    "  player_df = pd.read_csv(\"/content/gdrive/My Drive/freshman year/CS230/Notebooks/Final Project/Player CSVs 3/\" + file_name)\n",
    "  player_df = convert_df(player_df)\n",
    "  player_np = player_df.to_numpy()\n",
    "  player_np = np.transpose(player_np)\n",
    "  X.append(player_np)\n",
    "  if (i % 1000) == 1:\n",
    "    print(i)\n",
    "  i += 1\n",
    "\n",
    "#navigate out to the final project folder for saving models later\n",
    "%cd ../"
   ]
  },
  {
   "cell_type": "code",
   "execution_count": null,
   "metadata": {
    "colab": {
     "base_uri": "https://localhost:8080/"
    },
    "id": "ATIkb3qHezJ4",
    "outputId": "27d17bc8-51f2-47b0-d5f0-edcd2c9be14f"
   },
   "outputs": [
    {
     "name": "stdout",
     "output_type": "stream",
     "text": [
      "9226\n"
     ]
    }
   ],
   "source": [
    "#Create a sliding window for each player season game logs that takes\n",
    "#series of 10 games. By this method, we create around 400,000 usable \n",
    "#datapoints.\n",
    "sequence_len = 10\n",
    "inputX = np.zeros((400001, sequence_len, 20))\n",
    "#j is used for keeping track of where in all datapoints (ie how many valid \n",
    "#series have been created) the loop is at\n",
    "j = 0\n",
    "\n",
    "for xSeason in X:\n",
    "  #i is used to index through each player season, ie how many different windows\n",
    "  #can be created in lengths of 10 to create as many possible datapoints\n",
    "  #from a season\n",
    "  i = 0\n",
    "  while (i + sequence_len <= xSeason.shape[1]):\n",
    "    inputX[j, :, :] = xSeason[:, i:i + sequence_len].T\n",
    "    i += 1\n",
    "    j += 1\n",
    "    if j >= 400000:\n",
    "      break\n",
    "  \n",
    "#only keep the valid datapoints\n",
    "inputX = inputX[0:396700, :, :]"
   ]
  },
  {
   "cell_type": "markdown",
   "metadata": {
    "id": "YWAD3j45KoLw"
   },
   "source": [
    "Begin preparing the data for use in supervised learning by splitting it into a test and train set."
   ]
  },
  {
   "cell_type": "code",
   "execution_count": null,
   "metadata": {
    "id": "rTSqeD63Fz77"
   },
   "outputs": [],
   "source": [
    "#IMPORT STATEMENTS\n",
    "import numpy as np\n",
    "import warnings\n",
    "warnings.filterwarnings('ignore')  # supress scikit 'future warnings'\n",
    "import pandas as pd\n",
    "from sklearn import preprocessing\n",
    "from sklearn.neighbors import KNeighborsClassifier\n",
    "from sklearn.model_selection import train_test_split\n",
    "from sklearn.preprocessing import MinMaxScaler\n",
    "from sklearn.linear_model import LogisticRegression\n",
    "from sklearn.linear_model import LinearRegression\n",
    "from sklearn.metrics import confusion_matrix\n",
    "from sklearn.model_selection import GridSearchCV\n",
    "from scipy.optimize import linear_sum_assignment\n",
    "import matplotlib         \n",
    "from matplotlib import pyplot as plt\n",
    "from scipy.stats import norm\n",
    "from scipy.stats import norm, kurtosis\n",
    "from sklearn import linear_model\n",
    "from sklearn.linear_model import Ridge\n",
    "from sklearn.metrics import mean_squared_error\n",
    "from sklearn.ensemble import GradientBoostingRegressor\n",
    "from sklearn.preprocessing import PolynomialFeatures\n",
    "from sklearn.pipeline import make_pipeline\n",
    "from sklearn.linear_model import LinearRegression\n",
    "from sklearn.discriminant_analysis import LinearDiscriminantAnalysis\n",
    "from sklearn.discriminant_analysis import QuadraticDiscriminantAnalysis\n",
    "from sklearn import svm\n",
    "from sklearn.svm import SVC\n",
    "from sklearn.preprocessing import StandardScaler\n",
    "from sklearn.preprocessing import StandardScaler\n",
    "from sklearn.pipeline import make_pipeline\n",
    "from sklearn.ensemble import GradientBoostingClassifier\n",
    "from sklearn.ensemble import RandomForestClassifier\n",
    "import math\n",
    "import pickle\n",
    "import random\n",
    "import copy\n",
    "from copy import deepcopy\n",
    "import itertools\n",
    "from dataclasses import dataclass\n",
    "import collections\n",
    "from collections import defaultdict\n",
    "import random\n",
    "from typing import Callable, Dict, List, Tuple, TypeVar\n",
    "import random\n",
    "import sys\n",
    "from collections import Counter\n",
    "import datetime\n",
    "import pprint \n",
    "import csv\n",
    "import pandas as pd\n",
    "from sklearn.preprocessing import LabelEncoder\n",
    "from sklearn.preprocessing import MinMaxScaler\n",
    "import subprocess as sp\n",
    "import sklearn\n",
    "import tensorflow as tf\n",
    "from matplotlib.ticker import PercentFormatter\n",
    "from tensorflow.python.client import device_lib"
   ]
  },
  {
   "cell_type": "code",
   "execution_count": null,
   "metadata": {
    "id": "9Xk8_Mo-FNlZ"
   },
   "outputs": [],
   "source": [
    "# Prepare the dataset a split it into train and test\n",
    "# Input: (None, 9, 20)\n",
    "# Output: (None, 1, 12)-only keep the 12 relevant stats for fantasy score from \n",
    "# the 10th game.\n",
    "\n",
    "X, y = inputX[:, 0:9, :], inputX[:, 9, [1, 6, 7, 8, 10, 11, 12, 13, 14, 15, 16, 17]]\n",
    "X_train, X_test, y_train, y_test = train_test_split(X, y, test_size=0.05, random_state=42)"
   ]
  },
  {
   "cell_type": "code",
   "execution_count": null,
   "metadata": {
    "id": "t7mquOZC5Czc"
   },
   "outputs": [],
   "source": [
    "#create normalization layer and adapt to (ie compute mean and variance using)\n",
    "#the training X data.\n",
    "normalize_layer = tf.keras.layers.Normalization(axis = -1)\n",
    "normalize_layer.adapt(X_train)"
   ]
  },
  {
   "cell_type": "code",
   "execution_count": null,
   "metadata": {
    "id": "cwDftYH59byz"
   },
   "outputs": [],
   "source": [
    "#Declare 2 utilitarian methods for use of evaluating and training our model\n",
    "\n",
    "#transform a (m, 12) array of stats into a (m) array of fantasy scores\n",
    "#computed from those stats\n",
    "def scores_from_stats(stats):\n",
    "  fantasy_score_arr = np.array([1,2,-1,1,1,-1,1,1,2,4,4,-2])\n",
    "  score = np.zeros((stats.shape[0]))\n",
    "  for i in range(stats.shape[0]):\n",
    "    score[i] = np.dot(stats[i], fantasy_score_arr)\n",
    "  score = np.squeeze(score)\n",
    "  return score\n",
    "\n",
    "#compute stat-specific losses, ie for each of the 12 predicted stats, compute \n",
    "#a loss\n",
    "def stat_specific_loss(y_true, y_hat):\n",
    "  #shape of y_true and y_hat is (m, 12), calculates RMS\n",
    "  loss = np.sqrt((1/y_true.shape[0]) * np.sum((y_true - y_hat) ** 2, axis = 0))\n",
    "  return loss"
   ]
  },
  {
   "cell_type": "markdown",
   "metadata": {
    "id": "T3hqU7l85SBL"
   },
   "source": [
    "LSTM Model"
   ]
  },
  {
   "cell_type": "code",
   "execution_count": null,
   "metadata": {
    "id": "yuvU4CNzImRF"
   },
   "outputs": [],
   "source": [
    "#Define an LSTM model which predicts stats\n",
    "def LSTM_stats_model(Tx, num_stats_out, end_to_end = False):\n",
    "  #create the input, which is a (9, 20) array (9 games with 20 features)\n",
    "  input = tf.keras.Input(shape=(Tx-1, 20)) \n",
    "\n",
    "  #normalize the input array on the feature axis \n",
    "  mid = normalize_layer(input)\n",
    "\n",
    "  #create three LSTM layers which are many-to-many\n",
    "  mid = tf.keras.layers.LSTM(128, dropout = 0.2, return_sequences = True)(mid)\n",
    "  mid = tf.keras.layers.LSTM(128, dropout = 0.2, return_sequences = True)(mid)\n",
    "  mid = tf.keras.layers.LSTM(64, dropout = 0.2, return_sequences = True)(mid)\n",
    "\n",
    "  #create a final LSTM layer which is many-to-one and outputs a single (64) array\n",
    "  mid = tf.keras.layers.LSTM(64, dropout = 0.2)(mid)\n",
    "\n",
    "  #pass that final output through 3 dense layers to output a prediction for the\n",
    "  #stats of the 12th game.\n",
    "  mid = tf.keras.layers.Dense(32, activation=\"relu\")(mid)\n",
    "  #mid = tf.keras.layers.Dropout(0.15)(mid)\n",
    "  mid = tf.keras.layers.Dense(16, activation=\"relu\")(mid)\n",
    "  out = tf.keras.layers.Dense(num_stats_out, activation=\"relu\")(mid)\n",
    "\n",
    "  #optionally add a final layer for directly predicting fantasy scores\n",
    "  if end_to_end:\n",
    "    out = tf.keras.layers.Dense(1, activation=\"linear\")(out)\n",
    "\n",
    "  #declare the model\n",
    "  model_stats_out = tf.keras.Model(inputs=input, outputs=out)\n",
    "\n",
    "  #create an optimizer for the model\n",
    "  opt = tf.keras.optimizers.Adam(lr=0.02, beta_1=0.9, beta_2=0.999, decay=0.01)\n",
    "\n",
    "  #compile the model\n",
    "  model_stats_out.compile(optimizer=opt, loss='mean_squared_error', metrics=['accuracy'])\n",
    "  return model_stats_out"
   ]
  },
  {
   "cell_type": "code",
   "execution_count": null,
   "metadata": {
    "colab": {
     "base_uri": "https://localhost:8080/"
    },
    "id": "skOBxxXum0Ei",
    "outputId": "f2f37f59-a69e-48e0-9b98-f9030a3a64f7"
   },
   "outputs": [
    {
     "name": "stdout",
     "output_type": "stream",
     "text": [
      "Model: \"model\"\n",
      "_________________________________________________________________\n",
      " Layer (type)                Output Shape              Param #   \n",
      "=================================================================\n",
      " input_1 (InputLayer)        [(None, 9, 20)]           0         \n",
      "                                                                 \n",
      " normalization (Normalizatio  (None, 9, 20)            41        \n",
      " n)                                                              \n",
      "                                                                 \n",
      " lstm (LSTM)                 (None, 9, 128)            76288     \n",
      "                                                                 \n",
      " lstm_1 (LSTM)               (None, 9, 128)            131584    \n",
      "                                                                 \n",
      " lstm_2 (LSTM)               (None, 9, 64)             49408     \n",
      "                                                                 \n",
      " lstm_3 (LSTM)               (None, 64)                33024     \n",
      "                                                                 \n",
      " dense (Dense)               (None, 32)                2080      \n",
      "                                                                 \n",
      " dense_1 (Dense)             (None, 16)                528       \n",
      "                                                                 \n",
      " dense_2 (Dense)             (None, 12)                204       \n",
      "                                                                 \n",
      "=================================================================\n",
      "Total params: 293,157\n",
      "Trainable params: 293,116\n",
      "Non-trainable params: 41\n",
      "_________________________________________________________________\n"
     ]
    }
   ],
   "source": [
    "#Create an LSTM stats-out model (ie a model which predicts the 12 stats of the\n",
    "#final game).\n",
    "stats_out_model = LSTM_stats_model(10, 12)\n",
    "stats_out_model.summary()"
   ]
  },
  {
   "cell_type": "code",
   "execution_count": null,
   "metadata": {
    "colab": {
     "base_uri": "https://localhost:8080/"
    },
    "id": "-3JdGMTovAWA",
    "outputId": "f7664fcf-4e46-4728-a5ac-c6effe443cfe"
   },
   "outputs": [
    {
     "name": "stdout",
     "output_type": "stream",
     "text": [
      "Epoch 1/90\n",
      "5889/5889 [==============================] - 70s 10ms/step - loss: 1.7151 - accuracy: 0.6256\n",
      "Epoch 2/90\n",
      "5889/5889 [==============================] - 58s 10ms/step - loss: 1.6759 - accuracy: 0.6276\n",
      "Epoch 3/90\n",
      "5889/5889 [==============================] - 58s 10ms/step - loss: 1.6663 - accuracy: 0.6186\n",
      "Epoch 4/90\n",
      "5889/5889 [==============================] - 58s 10ms/step - loss: 1.6385 - accuracy: 0.6245\n",
      "Epoch 5/90\n",
      "5889/5889 [==============================] - 57s 10ms/step - loss: 1.6285 - accuracy: 0.6252\n",
      "Epoch 6/90\n",
      "5889/5889 [==============================] - 57s 10ms/step - loss: 1.6257 - accuracy: 0.6240\n",
      "Epoch 7/90\n",
      "5889/5889 [==============================] - 57s 10ms/step - loss: 1.6245 - accuracy: 0.6239\n",
      "Epoch 8/90\n",
      "5889/5889 [==============================] - 56s 10ms/step - loss: 1.6234 - accuracy: 0.6244\n",
      "Epoch 9/90\n",
      "5889/5889 [==============================] - 57s 10ms/step - loss: 1.6223 - accuracy: 0.6231\n",
      "Epoch 10/90\n",
      "5889/5889 [==============================] - 56s 10ms/step - loss: 1.6220 - accuracy: 0.6232\n",
      "Epoch 11/90\n",
      "5889/5889 [==============================] - 58s 10ms/step - loss: 1.6212 - accuracy: 0.6228\n",
      "Epoch 12/90\n",
      "5889/5889 [==============================] - 57s 10ms/step - loss: 1.6207 - accuracy: 0.6224\n",
      "Epoch 13/90\n",
      "5889/5889 [==============================] - 56s 10ms/step - loss: 1.6201 - accuracy: 0.6218\n",
      "Epoch 14/90\n",
      "5889/5889 [==============================] - 56s 10ms/step - loss: 1.6200 - accuracy: 0.6212\n",
      "Epoch 15/90\n",
      "5889/5889 [==============================] - 57s 10ms/step - loss: 1.6194 - accuracy: 0.6207\n",
      "Epoch 16/90\n",
      "5889/5889 [==============================] - 56s 10ms/step - loss: 1.6189 - accuracy: 0.6206\n",
      "Epoch 17/90\n",
      "5889/5889 [==============================] - 56s 10ms/step - loss: 1.6185 - accuracy: 0.6202\n",
      "Epoch 18/90\n",
      "5889/5889 [==============================] - 56s 10ms/step - loss: 1.6180 - accuracy: 0.6200\n",
      "Epoch 19/90\n",
      "5889/5889 [==============================] - 56s 10ms/step - loss: 1.6173 - accuracy: 0.6200\n",
      "Epoch 20/90\n",
      "5889/5889 [==============================] - 57s 10ms/step - loss: 1.6172 - accuracy: 0.6199\n",
      "Epoch 21/90\n",
      "5889/5889 [==============================] - 57s 10ms/step - loss: 1.6172 - accuracy: 0.6197\n",
      "Epoch 22/90\n",
      "5889/5889 [==============================] - 59s 10ms/step - loss: 1.6165 - accuracy: 0.6197\n",
      "Epoch 23/90\n",
      "5889/5889 [==============================] - 59s 10ms/step - loss: 1.6163 - accuracy: 0.6182\n",
      "Epoch 24/90\n",
      "5889/5889 [==============================] - 59s 10ms/step - loss: 1.6161 - accuracy: 0.6181\n",
      "Epoch 25/90\n",
      "5889/5889 [==============================] - 60s 10ms/step - loss: 1.6158 - accuracy: 0.6173\n",
      "Epoch 26/90\n",
      "5889/5889 [==============================] - 59s 10ms/step - loss: 1.6155 - accuracy: 0.6181\n",
      "Epoch 27/90\n",
      "5889/5889 [==============================] - 61s 10ms/step - loss: 1.6153 - accuracy: 0.6174\n",
      "Epoch 28/90\n",
      "5889/5889 [==============================] - 66s 11ms/step - loss: 1.6153 - accuracy: 0.6174\n",
      "Epoch 29/90\n",
      "5889/5889 [==============================] - 65s 11ms/step - loss: 1.6150 - accuracy: 0.6169\n",
      "Epoch 30/90\n",
      "5889/5889 [==============================] - 65s 11ms/step - loss: 1.6149 - accuracy: 0.6170\n",
      "Epoch 31/90\n",
      "5889/5889 [==============================] - 60s 10ms/step - loss: 1.6141 - accuracy: 0.6173\n",
      "Epoch 32/90\n",
      "5889/5889 [==============================] - 60s 10ms/step - loss: 1.6141 - accuracy: 0.6168\n",
      "Epoch 33/90\n",
      "5889/5889 [==============================] - 61s 10ms/step - loss: 1.6142 - accuracy: 0.6166\n",
      "Epoch 34/90\n",
      "5889/5889 [==============================] - 61s 10ms/step - loss: 1.6142 - accuracy: 0.6165\n",
      "Epoch 35/90\n",
      "5889/5889 [==============================] - 62s 10ms/step - loss: 1.6134 - accuracy: 0.6164\n",
      "Epoch 36/90\n",
      "5889/5889 [==============================] - 59s 10ms/step - loss: 1.6134 - accuracy: 0.6159\n",
      "Epoch 37/90\n",
      "5889/5889 [==============================] - 59s 10ms/step - loss: 1.6134 - accuracy: 0.6158\n",
      "Epoch 38/90\n",
      "5889/5889 [==============================] - 58s 10ms/step - loss: 1.6134 - accuracy: 0.6162\n",
      "Epoch 39/90\n",
      "5889/5889 [==============================] - 58s 10ms/step - loss: 1.6130 - accuracy: 0.6161\n",
      "Epoch 40/90\n",
      "5889/5889 [==============================] - 59s 10ms/step - loss: 1.6127 - accuracy: 0.6159\n",
      "Epoch 41/90\n",
      "5889/5889 [==============================] - 58s 10ms/step - loss: 1.6126 - accuracy: 0.6162\n",
      "Epoch 42/90\n",
      "5889/5889 [==============================] - 58s 10ms/step - loss: 1.6125 - accuracy: 0.6160\n",
      "Epoch 43/90\n",
      "5889/5889 [==============================] - 57s 10ms/step - loss: 1.6122 - accuracy: 0.6163\n",
      "Epoch 44/90\n",
      "5889/5889 [==============================] - 56s 9ms/step - loss: 1.6123 - accuracy: 0.6154\n",
      "Epoch 45/90\n",
      "5889/5889 [==============================] - 56s 10ms/step - loss: 1.6124 - accuracy: 0.6159\n",
      "Epoch 46/90\n",
      "5889/5889 [==============================] - 56s 10ms/step - loss: 1.6124 - accuracy: 0.6161\n",
      "Epoch 47/90\n",
      "5889/5889 [==============================] - 57s 10ms/step - loss: 1.6121 - accuracy: 0.6147\n",
      "Epoch 48/90\n",
      "5889/5889 [==============================] - 63s 11ms/step - loss: 1.6117 - accuracy: 0.6157\n",
      "Epoch 49/90\n",
      "5889/5889 [==============================] - 63s 11ms/step - loss: 1.6119 - accuracy: 0.6151\n",
      "Epoch 50/90\n",
      "5889/5889 [==============================] - 63s 11ms/step - loss: 1.6117 - accuracy: 0.6155\n",
      "Epoch 51/90\n",
      "5889/5889 [==============================] - 59s 10ms/step - loss: 1.6117 - accuracy: 0.6154\n",
      "Epoch 52/90\n",
      "5889/5889 [==============================] - 58s 10ms/step - loss: 1.6115 - accuracy: 0.6158\n",
      "Epoch 53/90\n",
      "5889/5889 [==============================] - 58s 10ms/step - loss: 1.6113 - accuracy: 0.6160\n",
      "Epoch 54/90\n",
      "5889/5889 [==============================] - 60s 10ms/step - loss: 1.6113 - accuracy: 0.6160\n",
      "Epoch 55/90\n",
      "5889/5889 [==============================] - 58s 10ms/step - loss: 1.6112 - accuracy: 0.6157\n",
      "Epoch 56/90\n",
      "5889/5889 [==============================] - 60s 10ms/step - loss: 1.6114 - accuracy: 0.6153\n",
      "Epoch 57/90\n",
      "5889/5889 [==============================] - 56s 10ms/step - loss: 1.6112 - accuracy: 0.6158\n",
      "Epoch 58/90\n",
      "5889/5889 [==============================] - 56s 10ms/step - loss: 1.6111 - accuracy: 0.6156\n",
      "Epoch 59/90\n",
      "5889/5889 [==============================] - 56s 10ms/step - loss: 1.6110 - accuracy: 0.6162\n",
      "Epoch 60/90\n",
      "5889/5889 [==============================] - 56s 10ms/step - loss: 1.6106 - accuracy: 0.6154\n",
      "Epoch 61/90\n",
      "5889/5889 [==============================] - 56s 10ms/step - loss: 1.6112 - accuracy: 0.6151\n",
      "Epoch 62/90\n",
      "5889/5889 [==============================] - 56s 10ms/step - loss: 1.6108 - accuracy: 0.6157\n",
      "Epoch 63/90\n",
      "5889/5889 [==============================] - 56s 10ms/step - loss: 1.6105 - accuracy: 0.6160\n",
      "Epoch 64/90\n",
      "5889/5889 [==============================] - 56s 9ms/step - loss: 1.6105 - accuracy: 0.6155\n",
      "Epoch 65/90\n",
      "5889/5889 [==============================] - 56s 9ms/step - loss: 1.6103 - accuracy: 0.6155\n",
      "Epoch 66/90\n",
      "5889/5889 [==============================] - 56s 10ms/step - loss: 1.6103 - accuracy: 0.6161\n",
      "Epoch 67/90\n",
      "5889/5889 [==============================] - 56s 10ms/step - loss: 1.6102 - accuracy: 0.6158\n",
      "Epoch 68/90\n",
      "5889/5889 [==============================] - 56s 10ms/step - loss: 1.6101 - accuracy: 0.6159\n",
      "Epoch 69/90\n",
      "5889/5889 [==============================] - 55s 9ms/step - loss: 1.6104 - accuracy: 0.6161\n",
      "Epoch 70/90\n",
      "5889/5889 [==============================] - 57s 10ms/step - loss: 1.6101 - accuracy: 0.6157\n",
      "Epoch 71/90\n",
      "5889/5889 [==============================] - 57s 10ms/step - loss: 1.6100 - accuracy: 0.6153\n",
      "Epoch 72/90\n",
      "5889/5889 [==============================] - 56s 10ms/step - loss: 1.6099 - accuracy: 0.6156\n",
      "Epoch 73/90\n",
      "5889/5889 [==============================] - 56s 10ms/step - loss: 1.6103 - accuracy: 0.6159\n",
      "Epoch 74/90\n",
      "5889/5889 [==============================] - 56s 10ms/step - loss: 1.6099 - accuracy: 0.6150\n",
      "Epoch 75/90\n",
      "5889/5889 [==============================] - 56s 10ms/step - loss: 1.6097 - accuracy: 0.6160\n",
      "Epoch 76/90\n",
      "5889/5889 [==============================] - 57s 10ms/step - loss: 1.6097 - accuracy: 0.6164\n",
      "Epoch 77/90\n",
      "5889/5889 [==============================] - 56s 10ms/step - loss: 1.6099 - accuracy: 0.6158\n",
      "Epoch 78/90\n",
      "5889/5889 [==============================] - 57s 10ms/step - loss: 1.6097 - accuracy: 0.6149\n",
      "Epoch 79/90\n",
      "5889/5889 [==============================] - 56s 10ms/step - loss: 1.6096 - accuracy: 0.6157\n",
      "Epoch 80/90\n",
      "5889/5889 [==============================] - 56s 10ms/step - loss: 1.6093 - accuracy: 0.6156\n",
      "Epoch 81/90\n",
      "5889/5889 [==============================] - 56s 10ms/step - loss: 1.6093 - accuracy: 0.6162\n",
      "Epoch 82/90\n",
      "5889/5889 [==============================] - 58s 10ms/step - loss: 1.6092 - accuracy: 0.6157\n",
      "Epoch 83/90\n",
      "5889/5889 [==============================] - 57s 10ms/step - loss: 1.6090 - accuracy: 0.6157\n",
      "Epoch 84/90\n",
      "5889/5889 [==============================] - 58s 10ms/step - loss: 1.6090 - accuracy: 0.6156\n",
      "Epoch 85/90\n",
      "5889/5889 [==============================] - 57s 10ms/step - loss: 1.6088 - accuracy: 0.6155\n",
      "Epoch 86/90\n",
      "5889/5889 [==============================] - 57s 10ms/step - loss: 1.6092 - accuracy: 0.6153\n",
      "Epoch 87/90\n",
      "5889/5889 [==============================] - 57s 10ms/step - loss: 1.6091 - accuracy: 0.6159\n",
      "Epoch 88/90\n",
      "5889/5889 [==============================] - 57s 10ms/step - loss: 1.6094 - accuracy: 0.6158\n",
      "Epoch 89/90\n",
      "5889/5889 [==============================] - 58s 10ms/step - loss: 1.6089 - accuracy: 0.6161\n",
      "Epoch 90/90\n",
      "5889/5889 [==============================] - 57s 10ms/step - loss: 1.6089 - accuracy: 0.6163\n"
     ]
    }
   ],
   "source": [
    "#Train the stats-out LSTM model\n",
    "with tf.device('/device:GPU:0'):\n",
    "  history = stats_out_model.fit(X_train, y_train, epochs=90, batch_size=64)"
   ]
  },
  {
   "cell_type": "code",
   "execution_count": null,
   "metadata": {
    "colab": {
     "base_uri": "https://localhost:8080/",
     "height": 295
    },
    "id": "VT5zoTDTSk9A",
    "outputId": "b2166282-6d4d-4b4b-f458-19945e27f0c7"
   },
   "outputs": [
    {
     "data": {
      "image/png": "[encoded data removed]",
      "text/plain": [
       "<Figure size 432x288 with 1 Axes>"
      ]
     },
     "metadata": {
      "needs_background": "light"
     },
     "output_type": "display_data"
    }
   ],
   "source": [
    "#Plot the loss of the model during training\n",
    "plt.plot(history.history['loss'])\n",
    "plt.title('model loss')\n",
    "plt.ylabel('loss')\n",
    "plt.xlabel('epoch')\n",
    "plt.show()"
   ]
  },
  {
   "cell_type": "code",
   "execution_count": null,
   "metadata": {
    "id": "cAJbQBFtzTRk"
   },
   "outputs": [],
   "source": [
    "#Save and Evaluate LSTM stats out model\n",
    "stats_out_model.save(\"stats_out_model_05_27\")\n",
    "stats_out_model.evaluate(X_test, y_test)\n",
    "\n",
    "y_pred = stats_out_model.predict(X_test)\n",
    "loss = stat_specific_loss(y_test, y_pred)\n",
    "print(loss)"
   ]
  },
  {
   "cell_type": "code",
   "execution_count": null,
   "metadata": {
    "id": "BwfigFHn2cXb"
   },
   "outputs": [],
   "source": [
    "#Evaluate stats out model in terms of fantasy points\n",
    "\n",
    "y_pred = stats_out_model.predict(X_test)\n",
    "y_pred_scores = scores_from_stats(y_pred)\n",
    "y_test_scores = scores_from_stats(y_test)\n",
    "loss = tf.keras.losses.mean_squared_error(y_test_scores, y_pred_scores)\n",
    "print(loss)"
   ]
  },
  {
   "cell_type": "code",
   "execution_count": null,
   "metadata": {
    "colab": {
     "base_uri": "https://localhost:8080/"
    },
    "id": "ubzB9xK0ysjM",
    "outputId": "f20c2c81-e80a-439f-be00-b5831e11e3f0"
   },
   "outputs": [
    {
     "name": "stdout",
     "output_type": "stream",
     "text": [
      "620/620 [==============================] - 8s 5ms/step - loss: 6.3425 - accuracy: 0.6491\n"
     ]
    },
    {
     "data": {
      "text/plain": [
       "[6.3425116539001465, 0.6491051316261292]"
      ]
     },
     "execution_count": 9,
     "metadata": {},
     "output_type": "execute_result"
    }
   ],
   "source": [
    "#Load and evaluate model\n",
    "loaded_model = tf.keras.models.load_model(\"stats_out_model_05_27\")\n",
    "loaded_model.evaluate(X_test, y_test)\n",
    "\n",
    "y_pred = loaded_model.predict(X_test)\n",
    "print(y_pred)\n",
    "stat_loss = stat_specific_loss(y_test, y_pred)\n",
    "y_pred_scores = scores_from_stats(y_pred)\n",
    "y_test_scores = scores_from_stats(y_test)\n",
    "loss = tf.keras.losses.mean_squared_error(y_test_scores, y_pred_scores)\n",
    "print(stat_loss)\n",
    "print(loss)"
   ]
  },
  {
   "cell_type": "code",
   "execution_count": null,
   "metadata": {
    "colab": {
     "base_uri": "https://localhost:8080/"
    },
    "id": "itPRIffocMU8",
    "outputId": "2c2bca8e-48bd-450d-c3d4-91b77750dd37"
   },
   "outputs": [
    {
     "name": "stdout",
     "output_type": "stream",
     "text": [
      "Model: \"model_1\"\n",
      "_________________________________________________________________\n",
      " Layer (type)                Output Shape              Param #   \n",
      "=================================================================\n",
      " input_2 (InputLayer)        [(None, 9, 20)]           0         \n",
      "                                                                 \n",
      " normalization (Normalizatio  (None, 9, 20)            41        \n",
      " n)                                                              \n",
      "                                                                 \n",
      " lstm_4 (LSTM)               (None, 9, 128)            76288     \n",
      "                                                                 \n",
      " lstm_5 (LSTM)               (None, 9, 128)            131584    \n",
      "                                                                 \n",
      " lstm_6 (LSTM)               (None, 9, 64)             49408     \n",
      "                                                                 \n",
      " lstm_7 (LSTM)               (None, 64)                33024     \n",
      "                                                                 \n",
      " dense_4 (Dense)             (None, 32)                2080      \n",
      "                                                                 \n",
      " dense_5 (Dense)             (None, 16)                528       \n",
      "                                                                 \n",
      " dense_6 (Dense)             (None, 12)                204       \n",
      "                                                                 \n",
      " dense_7 (Dense)             (None, 1)                 13        \n",
      "                                                                 \n",
      "=================================================================\n",
      "Total params: 293,170\n",
      "Trainable params: 293,129\n",
      "Non-trainable params: 41\n",
      "_________________________________________________________________\n",
      "[18. 35. 14. ...  5.  4. 16.]\n",
      "Epoch 1/70\n",
      "5889/5889 [==============================] - 66s 10ms/step - loss: 9.6032 - accuracy: 0.0206\n",
      "Epoch 2/70\n",
      "5889/5889 [==============================] - 59s 10ms/step - loss: 9.4376 - accuracy: 0.0206\n",
      "Epoch 3/70\n",
      "5889/5889 [==============================] - 59s 10ms/step - loss: 9.4211 - accuracy: 0.0206\n",
      "Epoch 4/70\n",
      "5889/5889 [==============================] - 59s 10ms/step - loss: 9.4111 - accuracy: 0.0206\n",
      "Epoch 5/70\n",
      "5889/5889 [==============================] - 59s 10ms/step - loss: 9.4020 - accuracy: 0.0206\n",
      "Epoch 6/70\n",
      "5889/5889 [==============================] - 58s 10ms/step - loss: 9.4006 - accuracy: 0.0206\n",
      "Epoch 7/70\n",
      "5889/5889 [==============================] - 59s 10ms/step - loss: 9.3960 - accuracy: 0.0206\n",
      "Epoch 8/70\n",
      "5889/5889 [==============================] - 59s 10ms/step - loss: 9.3952 - accuracy: 0.0206\n",
      "Epoch 9/70\n",
      "5889/5889 [==============================] - 60s 10ms/step - loss: 9.3929 - accuracy: 0.0206\n",
      "Epoch 10/70\n",
      "5889/5889 [==============================] - 60s 10ms/step - loss: 9.3939 - accuracy: 0.0206\n",
      "Epoch 11/70\n",
      "5889/5889 [==============================] - 59s 10ms/step - loss: 9.3905 - accuracy: 0.0206\n",
      "Epoch 12/70\n",
      "5889/5889 [==============================] - 58s 10ms/step - loss: 9.3873 - accuracy: 0.0206\n",
      "Epoch 13/70\n",
      "5889/5889 [==============================] - 58s 10ms/step - loss: 9.3855 - accuracy: 0.0206\n",
      "Epoch 14/70\n",
      "5889/5889 [==============================] - 59s 10ms/step - loss: 9.3845 - accuracy: 0.0206\n",
      "Epoch 15/70\n",
      "5889/5889 [==============================] - 58s 10ms/step - loss: 9.3836 - accuracy: 0.0206\n",
      "Epoch 16/70\n",
      "5889/5889 [==============================] - 58s 10ms/step - loss: 9.3810 - accuracy: 0.0206\n",
      "Epoch 17/70\n",
      "5889/5889 [==============================] - 58s 10ms/step - loss: 9.3799 - accuracy: 0.0206\n",
      "Epoch 18/70\n",
      "5889/5889 [==============================] - 59s 10ms/step - loss: 9.3797 - accuracy: 0.0206\n",
      "Epoch 19/70\n",
      "5889/5889 [==============================] - 59s 10ms/step - loss: 9.3828 - accuracy: 0.0206\n",
      "Epoch 20/70\n",
      "5889/5889 [==============================] - 58s 10ms/step - loss: 9.3784 - accuracy: 0.0206\n",
      "Epoch 21/70\n",
      "5889/5889 [==============================] - 58s 10ms/step - loss: 9.3802 - accuracy: 0.0206\n",
      "Epoch 22/70\n",
      "5889/5889 [==============================] - 59s 10ms/step - loss: 9.3826 - accuracy: 0.0206\n",
      "Epoch 23/70\n",
      "5889/5889 [==============================] - 60s 10ms/step - loss: 9.3746 - accuracy: 0.0206\n",
      "Epoch 24/70\n",
      "5889/5889 [==============================] - 61s 10ms/step - loss: 9.3782 - accuracy: 0.0206\n",
      "Epoch 25/70\n",
      "5889/5889 [==============================] - 61s 10ms/step - loss: 9.3803 - accuracy: 0.0206\n",
      "Epoch 26/70\n",
      "5889/5889 [==============================] - 61s 10ms/step - loss: 9.3749 - accuracy: 0.0206\n",
      "Epoch 27/70\n",
      "5889/5889 [==============================] - 60s 10ms/step - loss: 9.3785 - accuracy: 0.0206\n",
      "Epoch 28/70\n",
      "5889/5889 [==============================] - 62s 10ms/step - loss: 9.3717 - accuracy: 0.0206\n",
      "Epoch 29/70\n",
      "5889/5889 [==============================] - 60s 10ms/step - loss: 9.3754 - accuracy: 0.0206\n",
      "Epoch 30/70\n",
      "5889/5889 [==============================] - 61s 10ms/step - loss: 9.3760 - accuracy: 0.0206\n",
      "Epoch 31/70\n",
      "5889/5889 [==============================] - 61s 10ms/step - loss: 9.3750 - accuracy: 0.0206\n",
      "Epoch 32/70\n",
      "5889/5889 [==============================] - 62s 10ms/step - loss: 9.3734 - accuracy: 0.0206\n",
      "Epoch 33/70\n",
      "5889/5889 [==============================] - 61s 10ms/step - loss: 9.3715 - accuracy: 0.0206\n",
      "Epoch 34/70\n",
      "5889/5889 [==============================] - 62s 10ms/step - loss: 9.3776 - accuracy: 0.0206\n",
      "Epoch 35/70\n",
      "5889/5889 [==============================] - 60s 10ms/step - loss: 9.3692 - accuracy: 0.0206\n",
      "Epoch 36/70\n",
      "5889/5889 [==============================] - 61s 10ms/step - loss: 9.3702 - accuracy: 0.0206\n",
      "Epoch 37/70\n",
      "5889/5889 [==============================] - 60s 10ms/step - loss: 9.3697 - accuracy: 0.0206\n",
      "Epoch 38/70\n",
      "5889/5889 [==============================] - 60s 10ms/step - loss: 9.3704 - accuracy: 0.0206\n",
      "Epoch 39/70\n",
      "5889/5889 [==============================] - 62s 10ms/step - loss: 9.3734 - accuracy: 0.0206\n",
      "Epoch 40/70\n",
      "5889/5889 [==============================] - 61s 10ms/step - loss: 9.3701 - accuracy: 0.0206\n",
      "Epoch 41/70\n",
      "5889/5889 [==============================] - 61s 10ms/step - loss: 9.3699 - accuracy: 0.0206\n",
      "Epoch 42/70\n",
      "5889/5889 [==============================] - 61s 10ms/step - loss: 9.3769 - accuracy: 0.0206\n",
      "Epoch 43/70\n",
      "5889/5889 [==============================] - 61s 10ms/step - loss: 9.3734 - accuracy: 0.0206\n",
      "Epoch 44/70\n",
      "5889/5889 [==============================] - 61s 10ms/step - loss: 9.3688 - accuracy: 0.0206\n",
      "Epoch 45/70\n",
      "5889/5889 [==============================] - 60s 10ms/step - loss: 9.3695 - accuracy: 0.0206\n",
      "Epoch 46/70\n",
      "5889/5889 [==============================] - 58s 10ms/step - loss: 9.3696 - accuracy: 0.0206\n",
      "Epoch 48/70\n",
      "5889/5889 [==============================] - 57s 10ms/step - loss: 9.3703 - accuracy: 0.0206\n",
      "Epoch 49/70\n",
      "5889/5889 [==============================] - 57s 10ms/step - loss: 9.3701 - accuracy: 0.0206\n",
      "Epoch 50/70\n",
      "5889/5889 [==============================] - 58s 10ms/step - loss: 9.3675 - accuracy: 0.0206\n",
      "Epoch 51/70\n",
      "5889/5889 [==============================] - 58s 10ms/step - loss: 9.3694 - accuracy: 0.0206\n",
      "Epoch 52/70\n",
      "5889/5889 [==============================] - 59s 10ms/step - loss: 9.3672 - accuracy: 0.0206\n",
      "Epoch 53/70\n",
      "5889/5889 [==============================] - 57s 10ms/step - loss: 9.3689 - accuracy: 0.0206\n",
      "Epoch 54/70\n",
      "5889/5889 [==============================] - 58s 10ms/step - loss: 9.3695 - accuracy: 0.0206\n",
      "Epoch 55/70\n",
      "5889/5889 [==============================] - 57s 10ms/step - loss: 9.3657 - accuracy: 0.0206\n",
      "Epoch 56/70\n",
      "5889/5889 [==============================] - 58s 10ms/step - loss: 9.3659 - accuracy: 0.0206\n",
      "Epoch 57/70\n",
      "5889/5889 [==============================] - 58s 10ms/step - loss: 9.3707 - accuracy: 0.0206\n",
      "Epoch 58/70\n",
      "5889/5889 [==============================] - 58s 10ms/step - loss: 9.3676 - accuracy: 0.0206\n",
      "Epoch 59/70\n",
      "5889/5889 [==============================] - 58s 10ms/step - loss: 9.3677 - accuracy: 0.0206\n",
      "Epoch 60/70\n",
      "5889/5889 [==============================] - 58s 10ms/step - loss: 9.3682 - accuracy: 0.0206\n",
      "Epoch 61/70\n",
      "5889/5889 [==============================] - 59s 10ms/step - loss: 9.3701 - accuracy: 0.0206\n",
      "Epoch 62/70\n",
      "5889/5889 [==============================] - 57s 10ms/step - loss: 9.3668 - accuracy: 0.0206\n",
      "Epoch 63/70\n",
      "5889/5889 [==============================] - 58s 10ms/step - loss: 9.3651 - accuracy: 0.0206\n",
      "Epoch 64/70\n",
      "5889/5889 [==============================] - 58s 10ms/step - loss: 9.3662 - accuracy: 0.0206\n",
      "Epoch 65/70\n",
      "5889/5889 [==============================] - 59s 10ms/step - loss: 9.3641 - accuracy: 0.0206\n",
      "Epoch 66/70\n",
      "5889/5889 [==============================] - 58s 10ms/step - loss: 9.3679 - accuracy: 0.0206\n",
      "Epoch 67/70\n",
      "5889/5889 [==============================] - 59s 10ms/step - loss: 9.3643 - accuracy: 0.0206\n",
      "Epoch 68/70\n",
      "5889/5889 [==============================] - 58s 10ms/step - loss: 9.3663 - accuracy: 0.0206\n",
      "Epoch 69/70\n",
      "5889/5889 [==============================] - 58s 10ms/step - loss: 9.3690 - accuracy: 0.0206\n",
      "Epoch 70/70\n",
      "5889/5889 [==============================] - 58s 10ms/step - loss: 9.3664 - accuracy: 0.0206\n"
     ]
    }
   ],
   "source": [
    "#Create LSTM end to end model (ie directly predicts fantasy points rather than\n",
    "#stats for the 10th game)\n",
    "end_end_model = LSTM_stats_model(10, 12, end_to_end = True)\n",
    "end_end_model.summary()\n",
    "\n",
    "#Transform the y_train (m, 12) array to a (m) array of fantasy scores from each\n",
    "#10th game\n",
    "y_train_scores = scores_from_stats(y_train)\n",
    "#Train model\n",
    "with tf.device('/device:GPU:0'):\n",
    "  history3 = end_end_model.fit(X_train, y_train_scores, epochs=70, batch_size=64)\n"
   ]
  },
  {
   "cell_type": "code",
   "execution_count": null,
   "metadata": {
    "colab": {
     "base_uri": "https://localhost:8080/",
     "height": 295
    },
    "id": "O26fB4iudTF1",
    "outputId": "714c509d-b083-410d-af0a-57f211d2d1a2"
   },
   "outputs": [
    {
     "data": {
      "image/png": "[encoded data removed]",
      "text/plain": [
       "<Figure size 432x288 with 1 Axes>"
      ]
     },
     "metadata": {
      "needs_background": "light"
     },
     "output_type": "display_data"
    }
   ],
   "source": [
    "#Plot the loss of the end to end model\n",
    "plt.plot(history3.history['loss'])\n",
    "plt.title('model loss')\n",
    "plt.ylabel('loss')\n",
    "plt.xlabel('epoch')\n",
    "plt.show()"
   ]
  },
  {
   "cell_type": "code",
   "execution_count": null,
   "metadata": {
    "colab": {
     "base_uri": "https://localhost:8080/"
    },
    "id": "WlwDO1tadsMz",
    "outputId": "5f3834bf-a2a3-46eb-fcc2-05a44248df5f"
   },
   "outputs": [
    {
     "name": "stderr",
     "output_type": "stream",
     "text": [
      "WARNING:absl:Found untraced functions such as lstm_cell_4_layer_call_fn, lstm_cell_4_layer_call_and_return_conditional_losses, lstm_cell_5_layer_call_fn, lstm_cell_5_layer_call_and_return_conditional_losses, lstm_cell_6_layer_call_fn while saving (showing 5 of 8). These functions will not be directly callable after loading.\n"
     ]
    },
    {
     "name": "stdout",
     "output_type": "stream",
     "text": [
      "INFO:tensorflow:Assets written to: end_end_model_05_27_2/assets\n"
     ]
    },
    {
     "name": "stderr",
     "output_type": "stream",
     "text": [
      "INFO:tensorflow:Assets written to: end_end_model_05_27_2/assets\n",
      "WARNING:absl:<keras.layers.recurrent.LSTMCell object at 0x7fe9f1de9890> has the same name 'LSTMCell' as a built-in Keras object. Consider renaming <class 'keras.layers.recurrent.LSTMCell'> to avoid naming conflicts when loading with `tf.keras.models.load_model`. If renaming is not possible, pass the object in the `custom_objects` parameter of the load function.\n",
      "WARNING:absl:<keras.layers.recurrent.LSTMCell object at 0x7fe9f1dd7f50> has the same name 'LSTMCell' as a built-in Keras object. Consider renaming <class 'keras.layers.recurrent.LSTMCell'> to avoid naming conflicts when loading with `tf.keras.models.load_model`. If renaming is not possible, pass the object in the `custom_objects` parameter of the load function.\n",
      "WARNING:absl:<keras.layers.recurrent.LSTMCell object at 0x7fe9f1cc8710> has the same name 'LSTMCell' as a built-in Keras object. Consider renaming <class 'keras.layers.recurrent.LSTMCell'> to avoid naming conflicts when loading with `tf.keras.models.load_model`. If renaming is not possible, pass the object in the `custom_objects` parameter of the load function.\n",
      "WARNING:absl:<keras.layers.recurrent.LSTMCell object at 0x7fe9f1d3d6d0> has the same name 'LSTMCell' as a built-in Keras object. Consider renaming <class 'keras.layers.recurrent.LSTMCell'> to avoid naming conflicts when loading with `tf.keras.models.load_model`. If renaming is not possible, pass the object in the `custom_objects` parameter of the load function.\n"
     ]
    },
    {
     "name": "stdout",
     "output_type": "stream",
     "text": [
      "620/620 [==============================] - 4s 5ms/step - loss: 9.2360 - accuracy: 0.0215\n",
      "tf.Tensor([1158.5244   251.88367  261.36078 ...  388.33246  262.64703  249.92307], shape=(19835,), dtype=float32)\n"
     ]
    }
   ],
   "source": [
    "#Save and Evaluate LSTM end to end model\n",
    "end_end_model.save(\"end_end_model_05_27_2\")\n",
    "y_test_scores = scores_from_stats(y_test)\n",
    "end_end_model.evaluate(X_test, y_test_scores)\n",
    "\n",
    "y_pred = end_end_model.predict(X_test)\n",
    "loss = tf.keras.losses.mean_squared_error(y_test_scores, y_pred)\n",
    "print(loss)"
   ]
  },
  {
   "cell_type": "markdown",
   "metadata": {
    "id": "v9dhsjte5PVP"
   },
   "source": [
    "Flattened, deep learning model"
   ]
  },
  {
   "cell_type": "code",
   "execution_count": null,
   "metadata": {
    "id": "3hDrtaFEV_Vx"
   },
   "outputs": [],
   "source": [
    "#Flatten the games into a (m, 180) array from a (m, 9, 20) array for predicting \n",
    "#the outcome of the 10th game using a deep neural network\n",
    "#Predict either the stats or directly teh fantasy points of the 10th game\n",
    "def flattened_Deep_Model(Tx, stats_mode = False):\n",
    "  input = tf.keras.Input(shape=((Tx-1), 20))  \n",
    "\n",
    "  #normalize the input and flatten it into a single array\n",
    "  mid = normalize_layer(input)\n",
    "  mid = tf.keras.layers.Flatten()(mid)\n",
    "\n",
    "  #pass the input through 4 dense layers, each with batch normalization, dropout\n",
    "  #and a RELU activation function\n",
    "  mid = tf.keras.layers.Dense(512)(mid)\n",
    "  mid = tf.keras.layers.BatchNormalization()(mid)\n",
    "  mid = tf.keras.activations.relu(mid)\n",
    "  mid = tf.keras.layers.Dropout(0.2)(mid)\n",
    "  mid = tf.keras.layers.Dense(256)(mid)\n",
    "  mid = tf.keras.layers.BatchNormalization()(mid)\n",
    "  mid = tf.keras.activations.relu(mid)\n",
    "  mid = tf.keras.layers.Dropout(0.2)(mid)\n",
    "  mid = tf.keras.layers.Dense(64)(mid)\n",
    "  mid = tf.keras.layers.BatchNormalization()(mid)\n",
    "  mid = tf.keras.activations.relu(mid)\n",
    "  mid = tf.keras.layers.Dropout(0.2)(mid)\n",
    "  mid = tf.keras.layers.Dense(32, activation=\"relu\")(mid)\n",
    "  mid = tf.keras.layers.Dropout(0.2)(mid)\n",
    "  mid = tf.keras.layers.Dense(16, activation=\"relu\")(mid)\n",
    "\n",
    "  #In the final layer, predict the stats of the 10th game\n",
    "  out = tf.keras.layers.Dense(12, activation=\"linear\")(mid)\n",
    "\n",
    "  #optionally add a final layer for directly predicting fantasy scores\n",
    "  if not stats_mode:\n",
    "    out = tf.keras.layers.Dense(1, activation=\"linear\")(mid)\n",
    "\n",
    "  #declare the model\n",
    "  model_flat = tf.keras.Model(inputs=input, outputs=out)\n",
    "\n",
    "  #create an optimizer for the model\n",
    "  opt = tf.keras.optimizers.Adam(lr=0.02, beta_1=0.9, beta_2=0.999, decay=0.01)\n",
    "\n",
    "  #compile the model\n",
    "  model_flat.compile(optimizer=opt, loss='mean_squared_error', metrics=['accuracy'])\n",
    "  \n",
    "  return model_flat"
   ]
  },
  {
   "cell_type": "code",
   "execution_count": null,
   "metadata": {
    "colab": {
     "base_uri": "https://localhost:8080/"
    },
    "id": "jhyyply-8cOV",
    "outputId": "a184eaf3-7290-4538-87fd-380da47424c6"
   },
   "outputs": [
    {
     "name": "stdout",
     "output_type": "stream",
     "text": [
      "Model: \"model\"\n",
      "_________________________________________________________________\n",
      " Layer (type)                Output Shape              Param #   \n",
      "=================================================================\n",
      " input_1 (InputLayer)        [(None, 9, 20)]           0         \n",
      "                                                                 \n",
      " normalization (Normalizatio  (None, 9, 20)            41        \n",
      " n)                                                              \n",
      "                                                                 \n",
      " flatten (Flatten)           (None, 180)               0         \n",
      "                                                                 \n",
      " dense (Dense)               (None, 512)               92672     \n",
      "                                                                 \n",
      " batch_normalization (BatchN  (None, 512)              2048      \n",
      " ormalization)                                                   \n",
      "                                                                 \n",
      " tf.nn.relu (TFOpLambda)     (None, 512)               0         \n",
      "                                                                 \n",
      " dropout (Dropout)           (None, 512)               0         \n",
      "                                                                 \n",
      " dense_1 (Dense)             (None, 256)               131328    \n",
      "                                                                 \n",
      " batch_normalization_1 (Batc  (None, 256)              1024      \n",
      " hNormalization)                                                 \n",
      "                                                                 \n",
      " tf.nn.relu_1 (TFOpLambda)   (None, 256)               0         \n",
      "                                                                 \n",
      " dropout_1 (Dropout)         (None, 256)               0         \n",
      "                                                                 \n",
      " dense_2 (Dense)             (None, 64)                16448     \n",
      "                                                                 \n",
      " batch_normalization_2 (Batc  (None, 64)               256       \n",
      " hNormalization)                                                 \n",
      "                                                                 \n",
      " tf.nn.relu_2 (TFOpLambda)   (None, 64)                0         \n",
      "                                                                 \n",
      " dropout_2 (Dropout)         (None, 64)                0         \n",
      "                                                                 \n",
      " dense_3 (Dense)             (None, 32)                2080      \n",
      "                                                                 \n",
      " dropout_3 (Dropout)         (None, 32)                0         \n",
      "                                                                 \n",
      " dense_4 (Dense)             (None, 16)                528       \n",
      "                                                                 \n",
      " dense_5 (Dense)             (None, 12)                204       \n",
      "                                                                 \n",
      "=================================================================\n",
      "Total params: 246,629\n",
      "Trainable params: 244,924\n",
      "Non-trainable params: 1,705\n",
      "_________________________________________________________________\n"
     ]
    }
   ],
   "source": [
    "#Create flat, deep stats out model\n",
    "flat_stats_model = flattened_Deep_Model(10, stats_mode = True)\n",
    "flat_stats_model.summary()"
   ]
  },
  {
   "cell_type": "code",
   "execution_count": null,
   "metadata": {
    "colab": {
     "base_uri": "https://localhost:8080/"
    },
    "id": "XE94Z5vq0pPs",
    "outputId": "916f60f4-9c7e-4017-f74e-d4af1f33d3ba"
   },
   "outputs": [
    {
     "name": "stdout",
     "output_type": "stream",
     "text": [
      "Epoch 1/150\n",
      "5889/5889 [==============================] - 60s 10ms/step - loss: 1.5908 - accuracy: 0.6059\n",
      "Epoch 2/150\n",
      "5889/5889 [==============================] - 59s 10ms/step - loss: 1.5666 - accuracy: 0.6069\n",
      "Epoch 3/150\n",
      "5889/5889 [==============================] - 62s 10ms/step - loss: 1.5606 - accuracy: 0.6055\n",
      "Epoch 4/150\n",
      "5889/5889 [==============================] - 63s 11ms/step - loss: 1.5604 - accuracy: 0.6055\n",
      "Epoch 5/150\n",
      "5889/5889 [==============================] - 66s 11ms/step - loss: 1.5581 - accuracy: 0.6054\n",
      "Epoch 6/150\n",
      "5889/5889 [==============================] - 65s 11ms/step - loss: 1.5563 - accuracy: 0.6051\n",
      "Epoch 7/150\n",
      "5889/5889 [==============================] - 64s 11ms/step - loss: 1.5567 - accuracy: 0.6049\n",
      "Epoch 8/150\n",
      "5889/5889 [==============================] - 60s 10ms/step - loss: 1.5555 - accuracy: 0.6042\n",
      "Epoch 9/150\n",
      "5889/5889 [==============================] - 59s 10ms/step - loss: 1.5558 - accuracy: 0.6053\n",
      "Epoch 10/150\n",
      "5889/5889 [==============================] - 58s 10ms/step - loss: 1.5547 - accuracy: 0.6055\n",
      "Epoch 11/150\n",
      "5889/5889 [==============================] - 57s 10ms/step - loss: 1.5539 - accuracy: 0.6066\n",
      "Epoch 12/150\n",
      "5889/5889 [==============================] - 57s 10ms/step - loss: 1.5532 - accuracy: 0.6052\n",
      "Epoch 13/150\n",
      "5889/5889 [==============================] - 59s 10ms/step - loss: 1.5533 - accuracy: 0.6051\n",
      "Epoch 14/150\n",
      "5889/5889 [==============================] - 57s 10ms/step - loss: 1.5530 - accuracy: 0.6065\n",
      "Epoch 15/150\n",
      "5889/5889 [==============================] - 57s 10ms/step - loss: 1.5525 - accuracy: 0.6066\n",
      "Epoch 16/150\n",
      "5889/5889 [==============================] - 58s 10ms/step - loss: 1.5525 - accuracy: 0.6076\n",
      "Epoch 17/150\n",
      "5889/5889 [==============================] - 59s 10ms/step - loss: 1.5522 - accuracy: 0.6080\n",
      "Epoch 18/150\n",
      "5889/5889 [==============================] - 58s 10ms/step - loss: 1.5512 - accuracy: 0.6086\n",
      "Epoch 19/150\n",
      "5889/5889 [==============================] - 57s 10ms/step - loss: 1.5512 - accuracy: 0.6089\n",
      "Epoch 20/150\n",
      "5889/5889 [==============================] - 58s 10ms/step - loss: 1.5519 - accuracy: 0.6081\n",
      "Epoch 21/150\n",
      "5889/5889 [==============================] - 57s 10ms/step - loss: 1.5509 - accuracy: 0.6098\n",
      "Epoch 22/150\n",
      "5889/5889 [==============================] - 57s 10ms/step - loss: 1.5511 - accuracy: 0.6101\n",
      "Epoch 23/150\n",
      "5889/5889 [==============================] - 56s 10ms/step - loss: 1.5512 - accuracy: 0.6102\n",
      "Epoch 24/150\n",
      "5889/5889 [==============================] - 56s 9ms/step - loss: 1.5504 - accuracy: 0.6103\n",
      "Epoch 25/150\n",
      "5889/5889 [==============================] - 56s 10ms/step - loss: 1.5504 - accuracy: 0.6111\n",
      "Epoch 26/150\n",
      "5889/5889 [==============================] - 56s 9ms/step - loss: 1.5513 - accuracy: 0.6113\n",
      "Epoch 27/150\n",
      "5889/5889 [==============================] - 57s 10ms/step - loss: 1.5506 - accuracy: 0.6108\n",
      "Epoch 28/150\n",
      "5889/5889 [==============================] - 57s 10ms/step - loss: 1.5506 - accuracy: 0.6107\n",
      "Epoch 29/150\n",
      "5889/5889 [==============================] - 64s 11ms/step - loss: 1.5502 - accuracy: 0.6110\n",
      "Epoch 30/150\n",
      "5889/5889 [==============================] - 64s 11ms/step - loss: 1.5497 - accuracy: 0.6112\n",
      "Epoch 31/150\n",
      "5889/5889 [==============================] - 63s 11ms/step - loss: 1.5500 - accuracy: 0.6115\n",
      "Epoch 32/150\n",
      "5889/5889 [==============================] - 60s 10ms/step - loss: 1.5501 - accuracy: 0.6111\n",
      "Epoch 33/150\n",
      "5889/5889 [==============================] - 61s 10ms/step - loss: 1.5501 - accuracy: 0.6115\n",
      "Epoch 34/150\n",
      "5889/5889 [==============================] - 60s 10ms/step - loss: 1.5499 - accuracy: 0.6116\n",
      "Epoch 35/150\n",
      "5889/5889 [==============================] - 62s 11ms/step - loss: 1.5494 - accuracy: 0.6130\n",
      "Epoch 36/150\n",
      "5889/5889 [==============================] - 63s 11ms/step - loss: 1.5492 - accuracy: 0.6127\n",
      "Epoch 37/150\n",
      "5889/5889 [==============================] - 64s 11ms/step - loss: 1.5492 - accuracy: 0.6111\n",
      "Epoch 38/150\n",
      "5889/5889 [==============================] - 64s 11ms/step - loss: 1.5491 - accuracy: 0.6116\n",
      "Epoch 39/150\n",
      "5889/5889 [==============================] - 63s 11ms/step - loss: 1.5494 - accuracy: 0.6115\n",
      "Epoch 40/150\n",
      "5889/5889 [==============================] - 63s 11ms/step - loss: 1.5489 - accuracy: 0.6117\n",
      "Epoch 41/150\n",
      "5889/5889 [==============================] - 63s 11ms/step - loss: 1.5496 - accuracy: 0.6118\n",
      "Epoch 42/150\n",
      "5889/5889 [==============================] - 61s 10ms/step - loss: 1.5486 - accuracy: 0.6115\n",
      "Epoch 43/150\n",
      "5889/5889 [==============================] - 61s 10ms/step - loss: 1.5494 - accuracy: 0.6123\n",
      "Epoch 44/150\n",
      "5889/5889 [==============================] - 61s 10ms/step - loss: 1.5490 - accuracy: 0.6121\n",
      "Epoch 45/150\n",
      "5889/5889 [==============================] - 61s 10ms/step - loss: 1.5485 - accuracy: 0.6114\n",
      "Epoch 46/150\n",
      "5889/5889 [==============================] - 60s 10ms/step - loss: 1.5482 - accuracy: 0.6124\n",
      "Epoch 47/150\n",
      "5889/5889 [==============================] - 62s 11ms/step - loss: 1.5482 - accuracy: 0.6126\n",
      "Epoch 48/150\n",
      "5889/5889 [==============================] - 62s 11ms/step - loss: 1.5489 - accuracy: 0.6120\n",
      "Epoch 49/150\n",
      "5889/5889 [==============================] - 62s 11ms/step - loss: 1.5482 - accuracy: 0.6124\n",
      "Epoch 50/150\n",
      "5889/5889 [==============================] - 61s 10ms/step - loss: 1.5484 - accuracy: 0.6121\n",
      "Epoch 51/150\n",
      "5889/5889 [==============================] - 63s 11ms/step - loss: 1.5488 - accuracy: 0.6121\n",
      "Epoch 52/150\n",
      "5889/5889 [==============================] - 62s 11ms/step - loss: 1.5479 - accuracy: 0.6121\n",
      "Epoch 53/150\n",
      "5889/5889 [==============================] - 62s 11ms/step - loss: 1.5476 - accuracy: 0.6119\n",
      "Epoch 54/150\n",
      "5889/5889 [==============================] - 61s 10ms/step - loss: 1.5481 - accuracy: 0.6114\n",
      "Epoch 55/150\n",
      "5889/5889 [==============================] - 62s 11ms/step - loss: 1.5488 - accuracy: 0.6116\n",
      "Epoch 56/150\n",
      "5889/5889 [==============================] - 62s 10ms/step - loss: 1.5480 - accuracy: 0.6103\n",
      "Epoch 57/150\n",
      "5889/5889 [==============================] - 62s 11ms/step - loss: 1.5483 - accuracy: 0.6116\n",
      "Epoch 58/150\n",
      "5889/5889 [==============================] - 62s 11ms/step - loss: 1.5477 - accuracy: 0.6098\n",
      "Epoch 59/150\n",
      "5889/5889 [==============================] - 61s 10ms/step - loss: 1.5474 - accuracy: 0.6109\n",
      "Epoch 60/150\n",
      "5889/5889 [==============================] - 61s 10ms/step - loss: 1.5478 - accuracy: 0.6100\n",
      "Epoch 61/150\n",
      "5889/5889 [==============================] - 60s 10ms/step - loss: 1.5484 - accuracy: 0.6103\n",
      "Epoch 62/150\n",
      "5889/5889 [==============================] - 62s 10ms/step - loss: 1.5474 - accuracy: 0.6097\n",
      "Epoch 63/150\n",
      "5889/5889 [==============================] - 62s 10ms/step - loss: 1.5486 - accuracy: 0.6094\n",
      "Epoch 64/150\n",
      "5889/5889 [==============================] - 62s 11ms/step - loss: 1.5474 - accuracy: 0.6089\n",
      "Epoch 65/150\n",
      "5889/5889 [==============================] - 64s 11ms/step - loss: 1.5474 - accuracy: 0.6091\n",
      "Epoch 66/150\n",
      "5889/5889 [==============================] - 64s 11ms/step - loss: 1.5485 - accuracy: 0.6088\n",
      "Epoch 67/150\n",
      "5889/5889 [==============================] - 63s 11ms/step - loss: 1.5476 - accuracy: 0.6103\n",
      "Epoch 68/150\n",
      "5889/5889 [==============================] - 63s 11ms/step - loss: 1.5474 - accuracy: 0.6097\n",
      "Epoch 69/150\n",
      "5889/5889 [==============================] - 63s 11ms/step - loss: 1.5473 - accuracy: 0.6094\n",
      "Epoch 70/150\n",
      "5889/5889 [==============================] - 62s 11ms/step - loss: 1.5472 - accuracy: 0.6083\n",
      "Epoch 71/150\n",
      "5889/5889 [==============================] - 60s 10ms/step - loss: 1.5472 - accuracy: 0.6087\n",
      "Epoch 72/150\n",
      "5889/5889 [==============================] - 62s 10ms/step - loss: 1.5472 - accuracy: 0.6084\n",
      "Epoch 73/150\n",
      "5889/5889 [==============================] - 61s 10ms/step - loss: 1.5481 - accuracy: 0.6086\n",
      "Epoch 74/150\n",
      "5889/5889 [==============================] - 61s 10ms/step - loss: 1.5475 - accuracy: 0.6083\n",
      "Epoch 75/150\n",
      "5889/5889 [==============================] - 60s 10ms/step - loss: 1.5474 - accuracy: 0.6067\n",
      "Epoch 76/150\n",
      "5889/5889 [==============================] - 61s 10ms/step - loss: 1.5475 - accuracy: 0.6070\n",
      "Epoch 77/150\n",
      "5889/5889 [==============================] - 62s 11ms/step - loss: 1.5477 - accuracy: 0.6071\n",
      "Epoch 78/150\n",
      "5889/5889 [==============================] - 62s 11ms/step - loss: 1.5478 - accuracy: 0.6071\n",
      "Epoch 79/150\n",
      "5889/5889 [==============================] - 62s 11ms/step - loss: 1.5477 - accuracy: 0.6067\n",
      "Epoch 80/150\n",
      "5889/5889 [==============================] - 62s 11ms/step - loss: 1.5469 - accuracy: 0.6068\n",
      "Epoch 81/150\n",
      "5889/5889 [==============================] - 61s 10ms/step - loss: 1.5470 - accuracy: 0.6067\n",
      "Epoch 82/150\n",
      "5889/5889 [==============================] - 62s 11ms/step - loss: 1.5472 - accuracy: 0.6073\n",
      "Epoch 83/150\n",
      "5889/5889 [==============================] - 61s 10ms/step - loss: 1.5465 - accuracy: 0.6079\n",
      "Epoch 84/150\n",
      "5889/5889 [==============================] - 62s 11ms/step - loss: 1.5463 - accuracy: 0.6069\n",
      "Epoch 85/150\n",
      "5889/5889 [==============================] - 62s 11ms/step - loss: 1.5467 - accuracy: 0.6066\n",
      "Epoch 86/150\n",
      "5889/5889 [==============================] - 62s 11ms/step - loss: 1.5466 - accuracy: 0.6065\n",
      "Epoch 87/150\n",
      "5889/5889 [==============================] - 64s 11ms/step - loss: 1.5469 - accuracy: 0.6070\n",
      "Epoch 88/150\n",
      "5889/5889 [==============================] - 65s 11ms/step - loss: 1.5465 - accuracy: 0.6063\n",
      "Epoch 89/150\n",
      "5889/5889 [==============================] - 63s 11ms/step - loss: 1.5476 - accuracy: 0.6060\n",
      "Epoch 90/150\n",
      "5889/5889 [==============================] - 59s 10ms/step - loss: 1.5467 - accuracy: 0.6057\n",
      "Epoch 91/150\n",
      "5889/5889 [==============================] - 58s 10ms/step - loss: 1.5466 - accuracy: 0.6061\n",
      "Epoch 92/150\n",
      "5889/5889 [==============================] - 59s 10ms/step - loss: 1.5471 - accuracy: 0.6057\n",
      "Epoch 93/150\n",
      "5889/5889 [==============================] - 59s 10ms/step - loss: 1.5471 - accuracy: 0.6060\n",
      "Epoch 94/150\n",
      "5889/5889 [==============================] - 63s 11ms/step - loss: 1.5466 - accuracy: 0.6059\n",
      "Epoch 95/150\n",
      "5889/5889 [==============================] - 63s 11ms/step - loss: 1.5462 - accuracy: 0.6059\n",
      "Epoch 96/150\n",
      "5889/5889 [==============================] - 64s 11ms/step - loss: 1.5470 - accuracy: 0.6056\n",
      "Epoch 97/150\n",
      "5889/5889 [==============================] - 61s 10ms/step - loss: 1.5464 - accuracy: 0.6060\n",
      "Epoch 98/150\n",
      "5889/5889 [==============================] - 60s 10ms/step - loss: 1.5470 - accuracy: 0.6055\n",
      "Epoch 99/150\n",
      "5889/5889 [==============================] - 60s 10ms/step - loss: 1.5469 - accuracy: 0.6049\n",
      "Epoch 100/150\n",
      "5889/5889 [==============================] - 58s 10ms/step - loss: 1.5471 - accuracy: 0.6044\n",
      "Epoch 101/150\n",
      "5889/5889 [==============================] - 58s 10ms/step - loss: 1.5463 - accuracy: 0.6052\n",
      "Epoch 102/150\n",
      "5889/5889 [==============================] - 59s 10ms/step - loss: 1.5458 - accuracy: 0.6054\n",
      "Epoch 103/150\n",
      "5889/5889 [==============================] - 59s 10ms/step - loss: 1.5460 - accuracy: 0.6051\n",
      "Epoch 104/150\n",
      "5889/5889 [==============================] - 59s 10ms/step - loss: 1.5465 - accuracy: 0.6054\n",
      "Epoch 105/150\n",
      "5889/5889 [==============================] - 59s 10ms/step - loss: 1.5466 - accuracy: 0.6053\n",
      "Epoch 106/150\n",
      "5889/5889 [==============================] - 59s 10ms/step - loss: 1.5464 - accuracy: 0.6054\n",
      "Epoch 107/150\n",
      "5889/5889 [==============================] - 60s 10ms/step - loss: 1.5459 - accuracy: 0.6052\n",
      "Epoch 108/150\n",
      "5889/5889 [==============================] - 59s 10ms/step - loss: 1.5464 - accuracy: 0.6047\n",
      "Epoch 109/150\n",
      "5889/5889 [==============================] - 59s 10ms/step - loss: 1.5464 - accuracy: 0.6042\n",
      "Epoch 110/150\n",
      "5889/5889 [==============================] - 59s 10ms/step - loss: 1.5460 - accuracy: 0.6045\n",
      "Epoch 111/150\n",
      "5889/5889 [==============================] - 58s 10ms/step - loss: 1.5466 - accuracy: 0.6037\n",
      "Epoch 112/150\n",
      "5889/5889 [==============================] - 58s 10ms/step - loss: 1.5458 - accuracy: 0.6048\n",
      "Epoch 113/150\n",
      "5889/5889 [==============================] - 57s 10ms/step - loss: 1.5464 - accuracy: 0.6050\n",
      "Epoch 114/150\n",
      "5889/5889 [==============================] - 59s 10ms/step - loss: 1.5467 - accuracy: 0.6044\n",
      "Epoch 115/150\n",
      "5889/5889 [==============================] - 59s 10ms/step - loss: 1.5460 - accuracy: 0.6046\n",
      "Epoch 116/150\n",
      "5889/5889 [==============================] - 60s 10ms/step - loss: 1.5455 - accuracy: 0.6047\n",
      "Epoch 117/150\n",
      "5889/5889 [==============================] - 59s 10ms/step - loss: 1.5459 - accuracy: 0.6049\n",
      "Epoch 118/150\n",
      "5889/5889 [==============================] - 58s 10ms/step - loss: 1.5452 - accuracy: 0.6046\n",
      "Epoch 119/150\n",
      "5889/5889 [==============================] - 58s 10ms/step - loss: 1.5454 - accuracy: 0.6042\n",
      "Epoch 120/150\n",
      "5889/5889 [==============================] - 59s 10ms/step - loss: 1.5461 - accuracy: 0.6043\n",
      "Epoch 121/150\n",
      "5889/5889 [==============================] - 59s 10ms/step - loss: 1.5461 - accuracy: 0.6051\n",
      "Epoch 122/150\n",
      "5889/5889 [==============================] - 59s 10ms/step - loss: 1.5460 - accuracy: 0.6048\n",
      "Epoch 123/150\n",
      "5889/5889 [==============================] - 58s 10ms/step - loss: 1.5450 - accuracy: 0.6047\n",
      "Epoch 124/150\n",
      "5889/5889 [==============================] - 62s 11ms/step - loss: 1.5463 - accuracy: 0.6056\n",
      "Epoch 125/150\n",
      "5889/5889 [==============================] - 62s 11ms/step - loss: 1.5458 - accuracy: 0.6062\n",
      "Epoch 126/150\n",
      "5889/5889 [==============================] - 63s 11ms/step - loss: 1.5457 - accuracy: 0.6054\n",
      "Epoch 127/150\n",
      "5889/5889 [==============================] - 62s 10ms/step - loss: 1.5452 - accuracy: 0.6054\n",
      "Epoch 128/150\n",
      "5889/5889 [==============================] - 61s 10ms/step - loss: 1.5461 - accuracy: 0.6056\n",
      "Epoch 129/150\n",
      "5889/5889 [==============================] - 61s 10ms/step - loss: 1.5456 - accuracy: 0.6052\n",
      "Epoch 130/150\n",
      "5889/5889 [==============================] - 57s 10ms/step - loss: 1.5459 - accuracy: 0.6060\n",
      "Epoch 131/150\n",
      "5889/5889 [==============================] - 58s 10ms/step - loss: 1.5466 - accuracy: 0.6048\n",
      "Epoch 132/150\n",
      "5889/5889 [==============================] - 59s 10ms/step - loss: 1.5465 - accuracy: 0.6043\n",
      "Epoch 133/150\n",
      "5889/5889 [==============================] - 57s 10ms/step - loss: 1.5461 - accuracy: 0.6039\n",
      "Epoch 134/150\n",
      "5889/5889 [==============================] - 58s 10ms/step - loss: 1.5459 - accuracy: 0.6036\n",
      "Epoch 135/150\n",
      "5889/5889 [==============================] - 58s 10ms/step - loss: 1.5450 - accuracy: 0.6045\n",
      "Epoch 136/150\n",
      "5889/5889 [==============================] - 59s 10ms/step - loss: 1.5455 - accuracy: 0.6043\n",
      "Epoch 137/150\n",
      "5889/5889 [==============================] - 58s 10ms/step - loss: 1.5454 - accuracy: 0.6040\n",
      "Epoch 138/150\n",
      "5889/5889 [==============================] - 59s 10ms/step - loss: 1.5452 - accuracy: 0.6044\n",
      "Epoch 139/150\n",
      "5889/5889 [==============================] - 59s 10ms/step - loss: 1.5454 - accuracy: 0.6050\n",
      "Epoch 140/150\n",
      "5889/5889 [==============================] - 60s 10ms/step - loss: 1.5456 - accuracy: 0.6046\n",
      "Epoch 141/150\n",
      "5889/5889 [==============================] - 59s 10ms/step - loss: 1.5455 - accuracy: 0.6039\n",
      "Epoch 142/150\n",
      "5889/5889 [==============================] - 59s 10ms/step - loss: 1.5464 - accuracy: 0.6038\n",
      "Epoch 143/150\n",
      "5889/5889 [==============================] - 59s 10ms/step - loss: 1.5452 - accuracy: 0.6043\n",
      "Epoch 144/150\n",
      "5889/5889 [==============================] - 60s 10ms/step - loss: 1.5458 - accuracy: 0.6043\n",
      "Epoch 145/150\n",
      "5889/5889 [==============================] - 59s 10ms/step - loss: 1.5451 - accuracy: 0.6037\n",
      "Epoch 146/150\n",
      "5889/5889 [==============================] - 59s 10ms/step - loss: 1.5454 - accuracy: 0.6040\n",
      "Epoch 147/150\n",
      "5889/5889 [==============================] - 61s 10ms/step - loss: 1.5446 - accuracy: 0.6038\n",
      "Epoch 148/150\n",
      "5889/5889 [==============================] - 62s 10ms/step - loss: 1.5452 - accuracy: 0.6040\n",
      "Epoch 149/150\n",
      "5889/5889 [==============================] - 62s 11ms/step - loss: 1.5454 - accuracy: 0.6037\n",
      "Epoch 150/150\n",
      "5889/5889 [==============================] - 60s 10ms/step - loss: 1.5452 - accuracy: 0.6038\n"
     ]
    }
   ],
   "source": [
    "#Train the model\n",
    "with tf.device('/device:GPU:0'):\n",
    "  history2 = flat_stats_model.fit(X_train, y_train, epochs=150, batch_size=64)"
   ]
  },
  {
   "cell_type": "code",
   "execution_count": null,
   "metadata": {
    "colab": {
     "base_uri": "https://localhost:8080/",
     "height": 295
    },
    "id": "-px9VaaKpxew",
    "outputId": "dc48fd40-2d94-47f5-fd89-461df73a99e7"
   },
   "outputs": [
    {
     "data": {
      "image/png": "[encoded data removed]",
      "text/plain": [
       "<Figure size 432x288 with 1 Axes>"
      ]
     },
     "metadata": {
      "needs_background": "light"
     },
     "output_type": "display_data"
    }
   ],
   "source": [
    "#Plot the loss of the training\n",
    "plt.plot(history2.history['loss'])\n",
    "plt.title('model loss')\n",
    "plt.ylabel('loss')\n",
    "plt.xlabel('epoch')\n",
    "plt.show()"
   ]
  },
  {
   "cell_type": "code",
   "execution_count": null,
   "metadata": {
    "colab": {
     "base_uri": "https://localhost:8080/"
    },
    "id": "EzsxIVLS8q61",
    "outputId": "c30f43de-9554-48dd-ebad-27b9732d2bc7"
   },
   "outputs": [
    {
     "name": "stdout",
     "output_type": "stream",
     "text": [
      "INFO:tensorflow:Assets written to: flat_stats_out_model_05_27/assets\n",
      "620/620 [==============================] - 2s 3ms/step - loss: 1.5442 - accuracy: 0.5953\n",
      "[5.96771768 2.35372414 3.82578922 1.00611616 2.13416311 2.59772203\n",
      " 1.33511313 2.2250705  1.88879934 1.04187216 0.91243362 1.26703663]\n"
     ]
    }
   ],
   "source": [
    "#Save and evaluate flat, deep stats out model\n",
    "flat_stats_model.save(\"flat_stats_out_model_05_27\")\n",
    "flat_stats_model.evaluate(X_test, y_test)\n",
    "\n",
    "y_pred = flat_stats_model.predict(X_test)\n",
    "loss = stat_specific_loss(y_test, y_pred)\n",
    "print(loss)"
   ]
  },
  {
   "cell_type": "code",
   "execution_count": null,
   "metadata": {
    "colab": {
     "base_uri": "https://localhost:8080/"
    },
    "id": "zX3fCCOu9GkO",
    "outputId": "188e5c8a-e2f1-46f3-e0b5-ee1ed241533e"
   },
   "outputs": [
    {
     "name": "stdout",
     "output_type": "stream",
     "text": [
      "tf.Tensor(188.080880262514, shape=(), dtype=float64)\n"
     ]
    }
   ],
   "source": [
    "#Evaluate stats out model in terms of fantasy points\n",
    "y_pred = flat_stats_model.predict(X_test)\n",
    "y_pred_scores = scores_from_stats(y_pred)\n",
    "y_test_scores = scores_from_stats(y_test)\n",
    "loss = tf.keras.losses.mean_squared_error(y_test_scores, y_pred_scores)\n",
    "print(loss)"
   ]
  },
  {
   "cell_type": "code",
   "execution_count": null,
   "metadata": {
    "colab": {
     "base_uri": "https://localhost:8080/"
    },
    "id": "oke0iW96jKEs",
    "outputId": "0bdc8f72-4ca8-46a9-dfe4-2a5e43af9011"
   },
   "outputs": [
    {
     "name": "stdout",
     "output_type": "stream",
     "text": [
      "620/620 [==============================] - 2s 3ms/step - loss: 6.4170 - accuracy: 0.6492\n"
     ]
    },
    {
     "data": {
      "text/plain": [
       "[6.41702938079834, 0.6492059230804443]"
      ]
     },
     "execution_count": 17,
     "metadata": {},
     "output_type": "execute_result"
    }
   ],
   "source": [
    "loaded_model2 = tf.keras.models.load_model(\"flat_stats_out_model_05_27\")\n",
    "loaded_model2.evaluate(normalized_X_test, y_test)\n"
   ]
  },
  {
   "cell_type": "markdown",
   "metadata": {
    "id": "pip22rb99HBo"
   },
   "source": [
    "Load and evaluate models"
   ]
  },
  {
   "cell_type": "code",
   "execution_count": null,
   "metadata": {
    "colab": {
     "base_uri": "https://localhost:8080/"
    },
    "id": "tgDNrmmEbbW4",
    "outputId": "61b6234e-25e9-4b5f-cfef-669a3ac90844"
   },
   "outputs": [
    {
     "name": "stdout",
     "output_type": "stream",
     "text": [
      "/content/gdrive/My Drive/freshman year/CS230/Notebooks/Final Project\n"
     ]
    }
   ],
   "source": [
    "#Navigate to relevant directory\n",
    "%cd /content/gdrive/My Drive/freshman year/CS230/Notebooks/Final Project\n",
    "\n",
    "#Declare relevant methods also outlined above\n",
    "def scores_from_stats(stats):\n",
    "  fantasy_score_arr = np.array([1,2,-1,1,1,-1,1,1,2,4,4,-2])\n",
    "  score = np.zeros((stats.shape[0]))\n",
    "  for i in range(stats.shape[0]):\n",
    "    score[i] = np.dot(stats[i], fantasy_score_arr)\n",
    "  score = np.squeeze(score)\n",
    "  return score\n",
    "\n",
    "def stat_specific_loss(y_true, y_hat):\n",
    "  #shape of y_true and y_hat is (m, 12), calculates RMS\n",
    "  loss = np.sqrt((1/y_true.shape[0]) * np.sum((y_true - y_hat) ** 2, axis = 0))\n",
    "  return loss\n",
    "\n",
    "#An array used to convert game stats to a fantasy score\n",
    "fantasy_score_arr = np.array([0,1,0,0,0,0,2,-1,1,0,1,-1,1,1,2,4,4,-2,0,0])\n",
    "\n",
    "#load in a test set and evaluate the models on that test set\n",
    "test_set = np.load(\"test_set.npy\")\n",
    "X_test = np.zeros((test_set.shape[0], 9, 20))\n",
    "y_test = np.zeros((test_set.shape[0]))\n",
    "for i in range(test_set.shape[0]):\n",
    "  X_test[i] = test_set[i].T[0:9, :]\n",
    "  y_test[i] = np.squeeze(np.dot(test_set[i].T[9, :], fantasy_score_arr))\n",
    "\n",
    "\n",
    "\n",
    "#load LSTM models\n",
    "loaded_LSTM_model = tf.keras.models.load_model(\"stats_out_model_05_27\")\n",
    "loaded_LSTM_end_model = tf.keras.models.load_model(\"end_end_model_05_27_2\")\n",
    "\n",
    "#load deep, flat model\n",
    "loaded_flat_model = tf.keras.models.load_model(\"flat_stats_out_model_05_27\")\n",
    "\n",
    "#both models take in (m, 9, 20) shaped numpy array X_test vectors\n",
    "\n",
    "#create predictions for stats out LSTM model\n",
    "y_pred1 = loaded_LSTM_model.predict(X_test)\n",
    "y_pred_scores1 = scores_from_stats(y_pred1)\n",
    "\n",
    "#create predictions for stats out, flat and deep NN\n",
    "y_pred2 = loaded_flat_model.predict(X_test)\n",
    "y_pred_scores2 = scores_from_stats(y_pred2)\n",
    "\n",
    "#create predictions for end to end LSTM model\n",
    "y_pred_3 = loaded_LSTM_end_model(X_test)"
   ]
  },
  {
   "cell_type": "code",
   "execution_count": null,
   "metadata": {
    "id": "88D6nT1H0riN"
   },
   "outputs": [],
   "source": [
    "#define predictions and actual_vals using one of the three model predictions\n",
    "predictions = y_pred_3\n",
    "actual_vals = y_test"
   ]
  },
  {
   "cell_type": "code",
   "execution_count": null,
   "metadata": {
    "id": "uPRpidxu0nHa"
   },
   "outputs": [],
   "source": [
    "num_test_examples = predictions.shape[0]\n",
    "# Compute arrays representing l1 and l2 (MSE) losses per test example\n",
    "l1_losses = np.abs(predictions - actual_vals)\n",
    "l2_losses = np.square(predictions - actual_vals)\n",
    "    \n",
    "# Get total for l1 and l2 losses\n",
    "total_l1_loss = np.sum(l1_losses)\n",
    "total_l2_loss = np.sum(l2_losses)\n",
    " \n",
    "# Get the average l1 and l2 loss per test example\n",
    "avg_l1_loss = total_l1_loss/num_test_examples\n",
    "avg_l2_loss = total_l2_loss/num_test_examples\n",
    " \n",
    "# Get the median l1 and l2 losses over all test examples\n",
    "median_l1_loss = np.median(np.abs(predictions - actual_vals))\n",
    "median_l2_loss = np.median(np.square(predictions - actual_vals))\n",
    " \n",
    "# Print out the found values above\n",
    "print(\"Average l1 loss: \" + str(avg_l1_loss))\n",
    "print(\"Median l1 loss: \" + str(median_l1_loss))\n",
    "print(\"Average l2 loss: \" + str(avg_l2_loss))\n",
    "print(\"Median l2 loss: \" + str(median_l2_loss))\n",
    " \n",
    "# Graph histogram for l1 losses by percent in each category\n",
    "plt.clf()\n",
    "plt.hist(l1_losses, 10, weights=np.ones(len(l1_losses)) / len(l1_losses))\n",
    "plt.gca().yaxis.set_major_formatter(PercentFormatter(1))\n",
    "plt.title(\"Histogram with l1 losses (abs fantasy point prediction errors)\")\n",
    "plt.show()\n",
    " \n",
    "# Graph histogram for l2 losses by percent in each category\n",
    "plt.clf()\n",
    "plt.hist(l2_losses, 10, weights=np.ones(len(l2_losses)) / len(l2_losses))\n",
    "plt.gca().yaxis.set_major_formatter(PercentFormatter(1))\n",
    "plt.title(\"Histogram with l2 losses (squared fantasy point prediction errors)\")\n",
    "plt.show()\n",
    " \n",
    "# Graph histogram for l1 losses by percent in each category\n",
    "plt.clf()\n",
    "x = np.linspace(0,70,100)\n",
    "y = 1*x+0\n",
    "plt.plot(x, y, '-r', label='y=x (Perfect prediction line)')\n",
    "plt.scatter(predictions, actual_vals, alpha = 0.2)\n",
    "plt.title(\"Scatter Plot of Predictions on x-axis and corresponding actual values on y-axis\")\n",
    "plt.show()"
   ]
  }
 ],
 "metadata": {
  "accelerator": "GPU",
  "colab": {
   "collapsed_sections": [],
   "name": "CS230 Notebook Commented.ipynb",
   "provenance": []
  },
  "kernelspec": {
   "display_name": "Python 3",
   "language": "python",
   "name": "python3"
  },
  "language_info": {
   "codemirror_mode": {
    "name": "ipython",
    "version": 3
   },
   "file_extension": ".py",
   "mimetype": "text/x-python",
   "name": "python",
   "nbconvert_exporter": "python",
   "pygments_lexer": "ipython3",
   "version": "3.8.8"
  }
 },
 "nbformat": 4,
 "nbformat_minor": 4
}
